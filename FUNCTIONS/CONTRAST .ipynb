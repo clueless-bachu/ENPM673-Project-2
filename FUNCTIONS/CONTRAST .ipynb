{
 "cells": [
  {
   "cell_type": "code",
   "execution_count": null,
   "metadata": {},
   "outputs": [],
   "source": [
    "import cv2 \n",
    "\n",
    "# defining a function contrast which accepts three parameters - image and 2 factors - alpha and beta\n",
    "def contrast(image, alpha, beta):\n",
    "    adjusted = cv2.convertScaleAbs(image, alpha = alpha, beta = beta)\n",
    "    cv2.imshow('original', image)\n",
    "    cv2.imshow('adjusted', adjusted)\n",
    "    cv2.waitKey()\n",
    "\n",
    "image = cv2.imread('Lena.png')\n",
    "alpha = 3 #contrast control value (range is from 1 - 3)\n",
    "beta = 0 # Brightness control (0-100)\n",
    "contrast(image, alpha, beta)\n",
    "cv2.destroyAllWindows()"
   ]
  },
  {
   "cell_type": "code",
   "execution_count": null,
   "metadata": {},
   "outputs": [],
   "source": []
  }
 ],
 "metadata": {
  "kernelspec": {
   "display_name": "Python 3",
   "language": "python",
   "name": "python3"
  },
  "language_info": {
   "codemirror_mode": {
    "name": "ipython",
    "version": 3
   },
   "file_extension": ".py",
   "mimetype": "text/x-python",
   "name": "python",
   "nbconvert_exporter": "python",
   "pygments_lexer": "ipython3",
   "version": "3.7.4"
  }
 },
 "nbformat": 4,
 "nbformat_minor": 2
}
