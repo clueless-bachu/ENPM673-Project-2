{
 "cells": [
  {
   "cell_type": "code",
   "execution_count": 1,
   "metadata": {},
   "outputs": [],
   "source": [
    "import cv2\n",
    "import matplotlib.pyplot as plt\n",
    "import numpy as np\n",
    "import yaml\n",
    "import copy"
   ]
  },
  {
   "cell_type": "code",
   "execution_count": 2,
   "metadata": {},
   "outputs": [],
   "source": [
    "filename = r'.\\data\\data_1\\data\\0000000150.png'\n",
    "camera_file =  r'.\\data\\data_1\\camera_params.yaml'\n",
    "with open(camera_file) as file:\n",
    "    camera_coeffs = yaml.load(file, Loader=yaml.FullLoader)\n",
    "K = np.array(list(float(i) for i in (camera_coeffs['K']).split())).reshape(3,3)\n",
    "D = np.array(list(float(i) for i in (camera_coeffs['D']).split()))\n",
    "C = cv2.VideoCapture('challenge_video.mp4')\n"
   ]
  },
  {
   "cell_type": "code",
   "execution_count": 3,
   "metadata": {},
   "outputs": [],
   "source": [
    "def homography(img1, img2):\n",
    "    ind = 0\n",
    "    A_matrix = np.empty((8, 9))\n",
    "    \n",
    "    for pixel in range(0, len(img1)):\n",
    "        \n",
    "        x_1 = img1[pixel][0]\n",
    "        y_1 = img1[pixel][1]\n",
    "\n",
    "        x_2 = img2[pixel][0]\n",
    "        y_2 = img2[pixel][1]\n",
    "\n",
    "        A_matrix[ind] = np.array([x_1, y_1, 1, 0, 0, 0, -x_2*x_1, -x_2*y_1, -x_2])\n",
    "        A_matrix[ind + 1] = np.array([0, 0, 0, x_1, y_1, 1, -y_2*x_1, -y_2*y_1, -y_2])\n",
    "\n",
    "        ind = ind + 2\n",
    "    \n",
    "    U, s, V = np.linalg.svd(A_matrix, full_matrices=True)\n",
    "    V = (copy.deepcopy(V)) / (copy.deepcopy(V[8][8]))\n",
    "    H = V[8,:].reshape(3, 3)\n",
    "    return H\n"
   ]
  },
  {
   "cell_type": "code",
   "execution_count": 4,
   "metadata": {},
   "outputs": [],
   "source": [
    "while(True):\n",
    "    ret, image = C.read()\n",
    "    if ret == True:\n",
    "        undistorted = cv2.undistort(image, K, D)\n",
    "        #gray = cv2.cvtColor(undistorted,cv2.COLOR_BGR2GRAY)\n",
    "        gauss = cv2.GaussianBlur(undistorted,(7,7),1)\n",
    "        destination_1 = np.array([[0, 0],[300, 0],[0,300],[300, 300]], dtype = \"float32\")\n",
    "        source_1 = np.array([[560,450],[740, 450],[95, 710],[1260, 710]], dtype = \"float32\")\n",
    "        H = homography(source_1, destination_1)\n",
    "# Hinv = np.linalg.inv(H)\n",
    "        warp = cv2.warpPerspective(gauss, H, (255, 255))\n",
    "        channel = warp[:,:,2]               #Selecting the red channel of the image\n",
    "        ret, thresh = cv2.threshold(channel, 110, 255, cv2.THRESH_BINARY)               #Thresholding the image\n",
    "        sobelx = cv2.Sobel(thresh, cv2.CV_64F, 1, 0)\n",
    "        sobely = cv2.Sobel(thresh, cv2.CV_64F, 0, 1)\n",
    "        sobel = np.sqrt((sobelx**2) + (sobely**2)) \n",
    "#         plt.imshow(sobel)\n",
    "        cv2.imshow('sobel', sobel)\n",
    "        k = cv2.waitKey(1)\n",
    "        if k == 27:\n",
    "            break\n",
    "        else:\n",
    "            break\n",
    "\n",
    "C.release()        \n",
    "# cv2.destroyAllWindows()\n",
    "\n",
    "\n",
    "\n",
    "\n",
    "\n",
    "\n",
    "\n",
    "\n"
   ]
  },
  {
   "cell_type": "code",
   "execution_count": null,
   "metadata": {},
   "outputs": [],
   "source": []
  }
 ],
 "metadata": {
  "kernelspec": {
   "display_name": "Python 3",
   "language": "python",
   "name": "python3"
  },
  "language_info": {
   "codemirror_mode": {
    "name": "ipython",
    "version": 3
   },
   "file_extension": ".py",
   "mimetype": "text/x-python",
   "name": "python",
   "nbconvert_exporter": "python",
   "pygments_lexer": "ipython3",
   "version": "3.7.4"
  }
 },
 "nbformat": 4,
 "nbformat_minor": 2
}
