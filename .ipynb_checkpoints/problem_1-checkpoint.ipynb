{
 "cells": [
  {
   "cell_type": "code",
   "execution_count": 2,
   "metadata": {},
   "outputs": [],
   "source": [
    "import cv2\n",
    "import numpy as np\n",
    "# import matplotlib.pyplot as plt \n",
    "from utils import extract_frame"
   ]
  },
  {
   "cell_type": "code",
   "execution_count": 3,
   "metadata": {},
   "outputs": [],
   "source": [
    "filepath = './data/problem_1.mp4'\n",
    "invGamma = 1.0 / 2.7\n",
    "beta = 0.85\n",
    "table = np.array([beta*((i / 255.0) ** invGamma) * 255 for i in np.arange(0, 256)]).astype(np.uint8)\n",
    "cap = cv2.VideoCapture(filepath)\n",
    "if (cap.isOpened()== False): \n",
    "        print(\"Error opening video stream or file\")    \n",
    "while(cap.isOpened()):\n",
    "    try:\n",
    "        ret, frame = cap.read()\n",
    "        frame = cv2.resize(frame, (1200,600))\n",
    "        frame = cv2.LUT(frame,table)\n",
    "        frame = cv2.GaussianBlur(frame, (5,5),2)\n",
    "        frame = cv2.medianBlur(frame,11)\n",
    "        cv2.imshow('frame', frame)\n",
    "        if cv2.waitKey(25) & 0xFF == ord('q'):\n",
    "            break\n",
    "    except Exception as e:\n",
    "        print(e)\n",
    "        break\n",
    "cv2.destroyAllWindows()"
   ]
  },
  {
   "cell_type": "code",
   "execution_count": 10,
   "metadata": {},
   "outputs": [],
   "source": [
    "cv2.destroyAllWindows()"
   ]
  }
 ],
 "metadata": {
  "kernelspec": {
   "display_name": "Python 3",
   "language": "python",
   "name": "python3"
  },
  "language_info": {
   "codemirror_mode": {
    "name": "ipython",
    "version": 3
   },
   "file_extension": ".py",
   "mimetype": "text/x-python",
   "name": "python",
   "nbconvert_exporter": "python",
   "pygments_lexer": "ipython3",
   "version": "3.7.4"
  }
 },
 "nbformat": 4,
 "nbformat_minor": 2
}
