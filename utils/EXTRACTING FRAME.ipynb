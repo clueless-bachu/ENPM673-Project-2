{
 "cells": [
  {
   "cell_type": "code",
   "execution_count": 1,
   "metadata": {},
   "outputs": [],
   "source": [
    "import cv2\n",
    "import numpy as np\n",
    "\n",
    "def Extracting_frame(video):\n",
    "  \n",
    "    cap = cv2.VideoCapture(video) #video is the video being called\n",
    "    cap.set(1,frame_no); # Where frame_no is the frame you want\n",
    "    ret, frame = cap.read() # Read the frame\n",
    "    return frame\n",
    "# vs = cv2.VideoCapture(\"Tag0.mp4\")\n",
    "# extracted = Extracting_frame(vs)\n",
    "# cv2.imshow(\"Extracted\",extracted)\n",
    "\n"
   ]
  },
  {
   "cell_type": "code",
   "execution_count": null,
   "metadata": {},
   "outputs": [],
   "source": []
  }
 ],
 "metadata": {
  "kernelspec": {
   "display_name": "Python 3",
   "language": "python",
   "name": "python3"
  },
  "language_info": {
   "codemirror_mode": {
    "name": "ipython",
    "version": 3
   },
   "file_extension": ".py",
   "mimetype": "text/x-python",
   "name": "python",
   "nbconvert_exporter": "python",
   "pygments_lexer": "ipython3",
   "version": "3.7.4"
  }
 },
 "nbformat": 4,
 "nbformat_minor": 2
}
