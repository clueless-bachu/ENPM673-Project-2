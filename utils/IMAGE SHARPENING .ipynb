{
 "cells": [
  {
   "cell_type": "code",
   "execution_count": 18,
   "metadata": {},
   "outputs": [],
   "source": [
    "import cv2\n",
    "def sharp(image):\n",
    "    blurr =  cv2.GaussianBlur(image, (7,7),0);\n",
    "    sharp_image = cv2.addWeighted(image, 2, blurr, -1, 0);\n",
    "    return sharp_image\n",
    "\n",
    "# image = cv2.imread('test1.jpg')\n",
    "# sharp(image)\n",
    "# cv2.destroyAllWindows()"
   ]
  },
  {
   "cell_type": "code",
   "execution_count": 2,
   "metadata": {},
   "outputs": [],
   "source": [
    "# Alternate method to sharp an image  \n",
    "import cv2\n",
    "import numpy as np\n",
    "# Reading in and displaying our image\n",
    "def sharp(image):\n",
    "    image = cv2.imread('test1.jpg')\n",
    "\n",
    "    blurr =  cv2.GaussianBlur(image, (7,7),0);\n",
    "# Create our shapening kernel, it must equal to one eventually\n",
    "    kernel_sharpening = np.array([[-1,-1,-1], \n",
    "                                  [-1, 9,-1],\n",
    "                                  [-1,-1,-1]])\n",
    "# applying the sharpening kernel to the input image & displaying it.\n",
    "    sharpened = cv2.filter2D(blurr, -1, kernel_sharpening)\n",
    "    return sharpened"
   ]
  },
  {
   "cell_type": "code",
   "execution_count": null,
   "metadata": {},
   "outputs": [],
   "source": []
  },
  {
   "cell_type": "code",
   "execution_count": null,
   "metadata": {},
   "outputs": [],
   "source": []
  }
 ],
 "metadata": {
  "kernelspec": {
   "display_name": "Python 3",
   "language": "python",
   "name": "python3"
  },
  "language_info": {
   "codemirror_mode": {
    "name": "ipython",
    "version": 3
   },
   "file_extension": ".py",
   "mimetype": "text/x-python",
   "name": "python",
   "nbconvert_exporter": "python",
   "pygments_lexer": "ipython3",
   "version": "3.7.4"
  }
 },
 "nbformat": 4,
 "nbformat_minor": 2
}
